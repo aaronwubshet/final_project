{
 "cells": [
  {
   "cell_type": "code",
   "execution_count": 1,
   "metadata": {},
   "outputs": [],
   "source": [
    "## Install packages\n",
    "import numpy as np\n",
    "import pandas as pd\n"
   ]
  },
  {
   "cell_type": "code",
   "execution_count": 2,
   "metadata": {},
   "outputs": [
    {
     "name": "stderr",
     "output_type": "stream",
     "text": [
      "/var/folders/fl/_xhjrbhs5pq53yvh_dwfvh1m0000gn/T/ipykernel_30477/2474914245.py:3: DtypeWarning: Columns (21) have mixed types. Specify dtype option on import or set low_memory=False.\n",
      "  my_data = pd.read_csv(\"2024properties.csv\",\n"
     ]
    }
   ],
   "source": [
    "## Load data\n",
    "\n",
    "my_data = pd.read_csv(\"2024properties.csv\",\n",
    "                    #    dtype={\n",
    "                    #         'PID': 'int64',\n",
    "                    #         'CM_ID': 'int64',\n",
    "                    #         'GIS_ID': 'int64',\n",
    "                    #         'ST_NUM': 'int64',\n",
    "                    #         'ST_NAME': 'string',\n",
    "                    #         'CITY': 'string',\n",
    "                    #         'ZIP_CODE': 'int64',\n",
    "                    #         'BLDG_SEQ': 'int64'\n",
    "                    #     }\n",
    "                        )\n",
    "\n",
    "\n",
    "# string',\n",
    "#                             'Age': 'int64',\n",
    "#                             'Height': 'float64',\n",
    "#                             'Weight': 'float64'\n"
   ]
  },
  {
   "cell_type": "code",
   "execution_count": 3,
   "metadata": {},
   "outputs": [
    {
     "data": {
      "text/plain": [
       "0          True\n",
       "1          True\n",
       "2          True\n",
       "3          True\n",
       "4          True\n",
       "          ...  \n",
       "182237    False\n",
       "182238     True\n",
       "182239     True\n",
       "182240    False\n",
       "182241    False\n",
       "Name: LUC, Length: 182242, dtype: bool"
      ]
     },
     "execution_count": 3,
     "metadata": {},
     "output_type": "execute_result"
    }
   ],
   "source": [
    "multiple_use_codes  = [10, 12, 13, 19, 25, 26, 27, 31]\n",
    "residential_codes   = [101, 102, 103, 104, 105, 106, 107, 108, 109, 110]\n",
    "apartment_codes     = np.concatenate([np.arange(111,133,1), [202, 211]])\n",
    "\n",
    "all_res_codes = np.concatenate([multiple_use_codes, residential_codes, apartment_codes])\n",
    "\n",
    "my_data.LUC.isin(all_res_codes)\n",
    "# print(apartment_codes)\n",
    "# my_data.LUC == [10, 12, 13, 19, 25, 26, 27, 31]"
   ]
  },
  {
   "cell_type": "code",
   "execution_count": 4,
   "metadata": {},
   "outputs": [],
   "source": [
    "owner_counts = my_data[my_data.LUC.isin(all_res_codes)].OWNER.value_counts()\n",
    "\n",
    "owner_counts.to_csv(\"owner_counts_2024.csv\")"
   ]
  }
 ],
 "metadata": {
  "kernelspec": {
   "display_name": "Python 3",
   "language": "python",
   "name": "python3"
  },
  "language_info": {
   "codemirror_mode": {
    "name": "ipython",
    "version": 3
   },
   "file_extension": ".py",
   "mimetype": "text/x-python",
   "name": "python",
   "nbconvert_exporter": "python",
   "pygments_lexer": "ipython3",
   "version": "3.11.2"
  }
 },
 "nbformat": 4,
 "nbformat_minor": 2
}
